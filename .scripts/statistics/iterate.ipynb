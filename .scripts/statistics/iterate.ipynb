{
 "cells": [
  {
   "cell_type": "code",
   "execution_count": 7,
   "id": "initial_id",
   "metadata": {
    "collapsed": true,
    "ExecuteTime": {
     "end_time": "2023-10-18T15:16:51.509344Z",
     "start_time": "2023-10-18T15:16:51.506485Z"
    }
   },
   "outputs": [],
   "source": [
    "import requests, cv2, numpy as np, json\n",
    "from statistics.ImageStatistics import ImageStatistics\n",
    "\n",
    "def request_image(item_id: int):\n",
    "    url = \"http://192.168.11.10:8000/image/\" + str(item_id)\n",
    "    response = requests.get(url)\n",
    "\n",
    "    if response.status_code == 200:\n",
    "        image_array = np.frombuffer(response.content, np.uint8)\n",
    "        res_image = cv2.imdecode(image_array, cv2.IMREAD_COLOR)\n",
    "\n",
    "        return res_image\n",
    "    else:\n",
    "        return None\n",
    "    \n",
    "def get_ids_for_label(labels: list[str]):\n",
    "    url = f\"http://192.168.11.10:8000/search?labels={labels}\"\n",
    "    response = requests.get(url)\n",
    "    request_ids= []\n",
    "    for item in response.json():\n",
    "        request_ids.append(item['id'])\n",
    "    return request_ids"
   ]
  },
  {
   "cell_type": "code",
   "execution_count": 9,
   "outputs": [
    {
     "name": "stdout",
     "output_type": "stream",
     "text": [
      "1.0\n",
      "32\n",
      "1.0\n",
      "32\n",
      "1.0\n",
      "32\n",
      "1.0\n",
      "32\n",
      "1.0\n",
      "32\n",
      "1.0\n",
      "32\n",
      "1.0\n",
      "32\n",
      "1.0\n",
      "32\n",
      "1.0\n",
      "32\n",
      "1.0\n",
      "32\n",
      "1.0\n",
      "32\n",
      "1.0\n",
      "32\n",
      "1.0\n",
      "32\n",
      "1.0\n",
      "32\n",
      "1.0\n",
      "32\n",
      "1.0\n",
      "32\n",
      "1.0\n",
      "32\n",
      "1.0\n",
      "32\n",
      "1.0\n",
      "32\n",
      "1.0\n",
      "32\n",
      "1.0\n",
      "32\n",
      "1.0\n",
      "32\n",
      "1.0\n",
      "32\n",
      "1.0\n",
      "32\n",
      "1.0\n",
      "32\n",
      "1.0\n",
      "32\n",
      "1.0\n",
      "32\n",
      "1.0\n",
      "32\n",
      "1.0\n",
      "32\n",
      "1.0\n",
      "32\n"
     ]
    }
   ],
   "source": [
    "from repo import main\n",
    "from repo.src.tools import Image as tools\n",
    "req_id = get_ids_for_label(['Pixel7Pro', 'whole'])\n",
    "\n",
    "for number in req_id:\n",
    "    img = request_image(number)\n",
    "    image = tools.Image.resize(main.getBlade(img), 650)\n",
    "        \n",
    "    \n",
    "    stats = ImageStatistics(image)\n",
    "    obj = json.dumps(stats.get_statistics(), indent=4)\n",
    "    res = ImageStatistics.write_values_on_image(image, stats.get_statistics())\n",
    "    \n",
    "    cv2.imshow(f'Image {req_id}', res)\n",
    "    \n",
    "    # handle the opened windows according to macOS\n",
    "    cv2.startWindowThread()\n",
    "    print(cv2.waitKey(0))\n",
    "    cv2.destroyAllWindows()\n",
    "    for i in range(2):\n",
    "       cv2.waitKey(1)"
   ],
   "metadata": {
    "collapsed": false,
    "ExecuteTime": {
     "end_time": "2023-10-18T15:18:29.747898Z",
     "start_time": "2023-10-18T15:17:23.905278Z"
    }
   },
   "id": "8f6ae4ba27785b99"
  },
  {
   "cell_type": "code",
   "execution_count": 2,
   "outputs": [],
   "source": [],
   "metadata": {
    "collapsed": false,
    "ExecuteTime": {
     "end_time": "2023-10-18T15:14:57.221693Z",
     "start_time": "2023-10-18T15:14:57.214636Z"
    }
   },
   "id": "ceec0258731255f5"
  }
 ],
 "metadata": {
  "kernelspec": {
   "display_name": "Python 3",
   "language": "python",
   "name": "python3"
  },
  "language_info": {
   "codemirror_mode": {
    "name": "ipython",
    "version": 2
   },
   "file_extension": ".py",
   "mimetype": "text/x-python",
   "name": "python",
   "nbconvert_exporter": "python",
   "pygments_lexer": "ipython2",
   "version": "2.7.6"
  }
 },
 "nbformat": 4,
 "nbformat_minor": 5
}
